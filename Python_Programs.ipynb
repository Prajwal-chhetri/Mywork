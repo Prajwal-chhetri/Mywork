{
 "cells": [
  {
   "cell_type": "markdown",
   "id": "8c5fd68e-2f1f-421d-a3da-dd10fd6d9cf0",
   "metadata": {},
   "source": [
    "# CONCATINATION"
   ]
  },
  {
   "cell_type": "code",
   "execution_count": 4,
   "id": "3808b5c2-dc09-4e7b-86ce-799c36593d99",
   "metadata": {},
   "outputs": [
    {
     "name": "stdout",
     "output_type": "stream",
     "text": [
      "the variables are 1 and 2\n"
     ]
    }
   ],
   "source": [
    "a=1\n",
    "b=2\n",
    "print(f'the variables are {a} and {b}')"
   ]
  },
  {
   "cell_type": "code",
   "execution_count": 10,
   "id": "ec1c7524-484c-4ae8-828f-507a7419eb75",
   "metadata": {},
   "outputs": [
    {
     "name": "stdout",
     "output_type": "stream",
     "text": [
      "value of a 1 and value of b 2\n",
      "value of a 2 and value of b 1\n",
      "value of 1 and value of 2\n"
     ]
    }
   ],
   "source": [
    "a=1\n",
    "b=2\n",
    "print(\"value of a {} and value of b {}\".format(a,b))\n",
    "print(\"value of a {} and value of b {}\".format(b,a))\n",
    "print(\"value of {1} and value of {0}\".format(b,a)) #indexing"
   ]
  },
  {
   "cell_type": "code",
   "execution_count": 14,
   "id": "0b2a1ee9-e5cf-4778-aa02-ecf3adfe94f6",
   "metadata": {},
   "outputs": [
    {
     "name": "stdout",
     "output_type": "stream",
     "text": [
      "i love my country, name_is India\n"
     ]
    }
   ],
   "source": [
    "#STRING VALUE\n",
    "my = \"country\"; name_is =\"India\"\n",
    "print(\"i love my {1}, name_is {0}\".format(name_is,my))"
   ]
  },
  {
   "cell_type": "code",
   "execution_count": 17,
   "id": "ec1bc70f-6ab7-4495-b097-5e385d0f87de",
   "metadata": {},
   "outputs": [
    {
     "name": "stdout",
     "output_type": "stream",
     "text": [
      "my name is prajwal,k from Kerala\n"
     ]
    }
   ],
   "source": [
    "#print without reference variable or pass by value\n",
    "print(\"my name is {},{} from {}\".format('prajwal','k','Kerala'))"
   ]
  },
  {
   "cell_type": "code",
   "execution_count": 18,
   "id": "8a34c581-b35c-4e2a-b8e6-8c254993475d",
   "metadata": {},
   "outputs": [
    {
     "name": "stdin",
     "output_type": "stream",
     "text": [
      "enter a value :  kajaka\n"
     ]
    },
    {
     "name": "stdout",
     "output_type": "stream",
     "text": [
      "kajaka\n"
     ]
    }
   ],
   "source": [
    "#input enter by user\n",
    "num=input(\"enter a value : \")\n",
    "print(num)"
   ]
  },
  {
   "cell_type": "code",
   "execution_count": 20,
   "id": "27a996a0-c6bc-4768-97f2-1aeb1b08decd",
   "metadata": {},
   "outputs": [
    {
     "name": "stdin",
     "output_type": "stream",
     "text": [
      "Enter a value :  09\n"
     ]
    },
    {
     "name": "stdout",
     "output_type": "stream",
     "text": [
      "9\n"
     ]
    }
   ],
   "source": [
    "num = int(input(\"Enter a value : \"))\n",
    "print (num)"
   ]
  },
  {
   "cell_type": "code",
   "execution_count": 21,
   "id": "3c59aae1-90f9-4053-af77-29460da24ac6",
   "metadata": {},
   "outputs": [
    {
     "name": "stdin",
     "output_type": "stream",
     "text": [
      "Enter 1st digit if PIN no:  1\n",
      "Enter 2nd digit if PIN no:  2\n",
      "Enter 3rd digit if PIN no:  3\n",
      "Enter 4th digit if PIN no:  4\n"
     ]
    },
    {
     "name": "stdout",
     "output_type": "stream",
     "text": [
      "('1', '2', '3', '4')\n"
     ]
    }
   ],
   "source": [
    "#e nter a multiple value \n",
    "x = input(\"Enter 1st digit if PIN no: \"),input(\"Enter 2nd digit if PIN no: \"),input(\"Enter 3rd digit if PIN no: \"),input(\"Enter 4th digit if PIN no: \")\n",
    "print(x)\n"
   ]
  },
  {
   "cell_type": "markdown",
   "id": "47c8435d-9712-429b-b6f4-0a7ccfb8bda7",
   "metadata": {},
   "source": [
    "# logical opereator "
   ]
  },
  {
   "cell_type": "code",
   "execution_count": 24,
   "id": "9d76e242-1fe7-4f0e-a866-fb2ad380e224",
   "metadata": {},
   "outputs": [
    {
     "name": "stdout",
     "output_type": "stream",
     "text": [
      "True False\n",
      "True\n"
     ]
    }
   ],
   "source": [
    "a = True\n",
    "b = False\n",
    "print(a,b)\n",
    "print(not b)"
   ]
  },
  {
   "cell_type": "code",
   "execution_count": 25,
   "id": "692b59ab-8991-48bc-8649-34706ddabee1",
   "metadata": {},
   "outputs": [
    {
     "name": "stdout",
     "output_type": "stream",
     "text": [
      "140713913930664\n",
      "140713913930664\n",
      "<class 'int'>\n",
      "<class 'int'>\n",
      "False\n"
     ]
    }
   ],
   "source": [
    "#IDENTITY OPERATOR\n",
    "A=5\n",
    "B=5\n",
    "print(id(A))\n",
    "print(id(B))\n",
    "print(type(A))\n",
    "print(type(B))\n",
    "print(A is not B)\n"
   ]
  },
  {
   "cell_type": "code",
   "execution_count": 27,
   "id": "42b2fd12-ed20-4bca-b0b1-96648272013f",
   "metadata": {},
   "outputs": [
    {
     "name": "stdout",
     "output_type": "stream",
     "text": [
      "True\n",
      "1782976103104\n",
      "1782976077056\n"
     ]
    }
   ],
   "source": [
    "l1 =[1,2,3]\n",
    "l2 =[1,2,3]\n",
    "print(l1 is not l2)\n",
    "print(id(l1))\n",
    "print(id(l2))"
   ]
  },
  {
   "cell_type": "code",
   "execution_count": 28,
   "id": "444c846c-8a3b-4cde-8084-4f6725dd004f",
   "metadata": {},
   "outputs": [
    {
     "name": "stdout",
     "output_type": "stream",
     "text": [
      "False\n"
     ]
    }
   ],
   "source": [
    "#membership Operator\n",
    "l1 =[1,2,3,4]\n",
    "print(5 in l1)"
   ]
  },
  {
   "cell_type": "code",
   "execution_count": 29,
   "id": "2bdb198e-9d26-4bf1-858e-35f8b1494904",
   "metadata": {},
   "outputs": [
    {
     "name": "stdout",
     "output_type": "stream",
     "text": [
      "True\n"
     ]
    }
   ],
   "source": [
    "l2 ={2:\"a\", 1:\"b\"}\n",
    "print(1 in l2)"
   ]
  },
  {
   "cell_type": "markdown",
   "id": "9657ea5b-2000-4cf9-8e9c-b45edc77a6a6",
   "metadata": {},
   "source": [
    "# Flow Chart"
   ]
  },
  {
   "cell_type": "code",
   "execution_count": 30,
   "id": "835bfc52-c2fb-49ca-b9fc-e68ae862a736",
   "metadata": {},
   "outputs": [
    {
     "name": "stdout",
     "output_type": "stream",
     "text": [
      "x is positive number\n"
     ]
    }
   ],
   "source": [
    "x = 10 \n",
    "if(x>0):\n",
    "    print(\"x is positive number\")\n",
    "else:\n",
    "    print(\"x is negative number\")"
   ]
  },
  {
   "cell_type": "code",
   "execution_count": 31,
   "id": "6929b567-c4ec-4958-a8ac-ae2986975b03",
   "metadata": {},
   "outputs": [
    {
     "name": "stdout",
     "output_type": "stream",
     "text": [
      "This will print always\n"
     ]
    }
   ],
   "source": [
    "#case 1\n",
    "num = 10\n",
    "if None: # (none ,0,-1) : it will not allow to get inyo loop\n",
    "    print(\"Number is positive\")# tab  or four space required or else will get exceptionm indentation\n",
    "\n",
    "print(\"This will print always\")# thuis will run by default"
   ]
  },
  {
   "cell_type": "code",
   "execution_count": 33,
   "id": "662874a5-59df-4b62-9e4d-fd5bd151da8e",
   "metadata": {},
   "outputs": [
    {
     "name": "stdout",
     "output_type": "stream",
     "text": [
      "1st division\n"
     ]
    }
   ],
   "source": [
    "#Nested loop\n",
    "#case 1\n",
    "num = 19\n",
    "if(num>=10 and 20>num):\n",
    "    print(\"1st division\")\n",
    "elif(num>=10 and 20<num):\n",
    "    print(\"2nd division\")\n",
    "elif (num>=10 and 12>=num):\n",
    "    print(\"3rd division\")\n",
    "else:\n",
    "    print(\"Failed\")"
   ]
  },
  {
   "cell_type": "code",
   "execution_count": 40,
   "id": "06a357c9-cfd0-4fa0-a842-0bed08548fd2",
   "metadata": {},
   "outputs": [
    {
     "name": "stdin",
     "output_type": "stream",
     "text": [
      " 1\n",
      " 09\n",
      " 88\n"
     ]
    },
    {
     "name": "stdout",
     "output_type": "stream",
     "text": [
      "88 is greater number\n"
     ]
    }
   ],
   "source": [
    "a =int(input());\n",
    "b =int(input());\n",
    "c =int(input());\n",
    "if(a>b and a>c):\n",
    "    print('{} is greater number'.format(a))\n",
    "elif(b>a and b>c):\n",
    "    print('{} is greater number'.format(b))\n",
    "else:\n",
    "    print('{} is greater number'.format(c))"
   ]
  },
  {
   "cell_type": "code",
   "execution_count": null,
   "id": "4933ff34-a4dc-4b46-bcaa-8cebe6facbe2",
   "metadata": {},
   "outputs": [],
   "source": [
    "#case 2\n",
    "num = 20\n",
    "if (num>10 or 10>num):\n",
    "    if (num>20):\n",
    "        print(\""
   ]
  },
  {
   "cell_type": "code",
   "execution_count": 41,
   "id": "24c93bc3-4417-4b02-9ac7-0eb917657c4c",
   "metadata": {},
   "outputs": [
    {
     "name": "stdout",
     "output_type": "stream",
     "text": [
      "20\n",
      "400\n",
      "12000\n",
      "480000\n",
      "24000000\n"
     ]
    }
   ],
   "source": [
    "a = [10,20,30,40,50]\n",
    "product = 2\n",
    "for ele in a:\n",
    "    product *= ele\n",
    "    print(product)"
   ]
  },
  {
   "cell_type": "code",
   "execution_count": 42,
   "id": "afd58dad-e3ed-4c4c-9646-7c2b4c6f0cdf",
   "metadata": {},
   "outputs": [
    {
     "name": "stdout",
     "output_type": "stream",
     "text": [
      "0\n",
      "1\n",
      "2\n",
      "3\n",
      "4\n",
      "5\n",
      "6\n",
      "7\n",
      "8\n",
      "9\n"
     ]
    }
   ],
   "source": [
    "for i in range(10):\n",
    "    print(i)"
   ]
  },
  {
   "cell_type": "code",
   "execution_count": 43,
   "id": "dc367b8f-fdd7-4fe0-b240-66dada327f83",
   "metadata": {},
   "outputs": [
    {
     "name": "stdout",
     "output_type": "stream",
     "text": [
      "1\n",
      "3\n",
      "5\n",
      "7\n",
      "9\n"
     ]
    }
   ],
   "source": [
    "for i in range(1,10,2):\n",
    "    print(i)"
   ]
  },
  {
   "cell_type": "code",
   "execution_count": 44,
   "id": "49ca9fcf-b02c-4909-bb68-14b252eb8090",
   "metadata": {},
   "outputs": [
    {
     "name": "stdout",
     "output_type": "stream",
     "text": [
      "1\n",
      "2\n",
      "3\n",
      "4\n",
      "thankyou\n"
     ]
    }
   ],
   "source": [
    "x=[1,2,3,4]\n",
    "for data in x:\n",
    "    print(data)\n",
    "else:\n",
    "    print(\"thankyou\")"
   ]
  },
  {
   "cell_type": "code",
   "execution_count": 45,
   "id": "b521ed98-1378-42c7-90c8-5d032c646c06",
   "metadata": {},
   "outputs": [
    {
     "name": "stdout",
     "output_type": "stream",
     "text": [
      "20\n",
      "220\n",
      "2640\n",
      "34320\n",
      "480480\n",
      "7207200\n",
      "115315200\n",
      "1960358400\n",
      "35286451200\n",
      "670442572800\n",
      "13408851456000\n",
      "281585880576000\n",
      "6194889372672000\n",
      "142482455571456000\n",
      "3419578933714944000\n",
      "85489473342873600000\n",
      "2222726306914713600000\n",
      "60013610286697267200000\n",
      "1680381088027523481600000\n",
      "48731051552798180966400000\n",
      "1461931546583945428992000000\n",
      "45319877944102308298752000000\n",
      "1450236094211273865560064000000\n",
      "47857791108972037563482112000000\n",
      "1627164897705049277158391808000000\n",
      "56950771419676724700543713280000000\n",
      "2050227771108362089219573678080000000\n",
      "75858427531009397301124226088960000000\n",
      "2882620246178357097442720591380480000000\n",
      "112422189600955926800266103063838720000000\n",
      "4496887584038237072010644122553548800000000\n",
      "184372390945567719952436409024695500800000000\n",
      "7743640419713844238002329179037211033600000000\n",
      "332976538047695302234100154698600074444800000000\n",
      "14650967674098593298300406806738403275571200000000\n",
      "659293545334436698423518306303228147400704000000000\n",
      "30327503085384088127481842089948494780432384000000000\n",
      "1425392645013052141991646578227579254680322048000000000\n",
      "68418846960626502815599035754923804224655458304000000000\n",
      "3352523501070698637964352751991266407008117456896000000000\n",
      "167626175053534931898217637599563320350405872844800000000000\n",
      "8548934927730281526809099517577729337870699515084800000000000\n",
      "444544616241974639394073174914041925569276374784409600000000000\n",
      "23560864660824655887885878270444222055171647863573708800000000000\n",
      "1272286691684531417945837426603987990979268984632980275200000000000\n",
      "69975768042649227987021058463219339503859794154813915136000000000000\n",
      "3918643010388356767273179273940283012216148472669579247616000000000000\n",
      "223362651592136335734571218614596131696320462942166017114112000000000000\n",
      "12955033792343907472605130679646575638386586850645628992618496000000000000\n",
      "764346993748290540883702710099147962664808624188092110564491264000000000000\n",
      "45860819624897432453022162605948877759888517451285526633869475840000000000000\n"
     ]
    }
   ],
   "source": [
    "product = 2\n",
    "for i in range(10,61,1):\n",
    "    product *= i\n",
    "    print(product)"
   ]
  },
  {
   "cell_type": "markdown",
   "id": "340e7f6d-1d7c-41eb-91c0-33bccfa04a33",
   "metadata": {},
   "source": [
    "# ODD AND EVEN"
   ]
  },
  {
   "cell_type": "code",
   "execution_count": 51,
   "id": "65dd9078-4382-4d80-ad06-67669904ebf7",
   "metadata": {},
   "outputs": [
    {
     "name": "stdout",
     "output_type": "stream",
     "text": [
      "[2, 4, 6, 8] IS A ODD NUMBER\n",
      "[1, 3, 5, 7, 9] IS A ODD NUMBER\n"
     ]
    }
   ],
   "source": [
    "EL1 =[]\n",
    "EL2 =[]\n",
    "for i in range(1,10):\n",
    "    if i%2 ==0:\n",
    "        EL1.append(i)\n",
    "    else:\n",
    "        EL2.append(i)\n",
    "\n",
    "print(f'{EL1} IS A ODD NUMBER')\n",
    "print((f'{EL2} IS A ODD NUMBER'))\n",
    "    \n",
    "    "
   ]
  },
  {
   "cell_type": "markdown",
   "id": "57e15c3f-5bc4-4686-9368-695a6b7db9ab",
   "metadata": {},
   "source": [
    "# STRING REVERSE"
   ]
  },
  {
   "cell_type": "code",
   "execution_count": 54,
   "id": "b0a4fa02-00f8-4ea5-85d4-d2dca9bc39f8",
   "metadata": {},
   "outputs": [
    {
     "name": "stdout",
     "output_type": "stream",
     "text": [
      "reverse_string : LAWJARP\n"
     ]
    }
   ],
   "source": [
    "a =\"PRAJWAL\"\n",
    "reverses_string = a[::-1]\n",
    "print(\"reverse_string :\",reverses_string)"
   ]
  },
  {
   "cell_type": "code",
   "execution_count": 56,
   "id": "04e9bb3f-7cbe-47c3-bc50-35b77c7990fa",
   "metadata": {},
   "outputs": [
    {
     "name": "stdin",
     "output_type": "stream",
     "text": [
      "enter a number: 121\n"
     ]
    },
    {
     "name": "stdout",
     "output_type": "stream",
     "text": [
      "121 is palindrome\n"
     ]
    }
   ],
   "source": [
    "n = int(input(\"enter a number:\"))\n",
    "\n",
    "if str(n)==str(n)[::-1]:\n",
    "    print(f'{n} is palindrome')\n",
    "else:\n",
    "     print(f'{n} is not  palindrome')"
   ]
  },
  {
   "cell_type": "markdown",
   "id": "4a04e7c6-7fc6-472b-be65-95a801d773c7",
   "metadata": {},
   "source": [
    "# Function"
   ]
  },
  {
   "cell_type": "code",
   "execution_count": 60,
   "id": "18fe22fa-2fc0-4c87-86f3-0f04b05c87ba",
   "metadata": {},
   "outputs": [
    {
     "name": "stdout",
     "output_type": "stream",
     "text": [
      "name is prajwal\n"
     ]
    }
   ],
   "source": [
    "def function(arg):\n",
    "    print(\"name is \" + str(arg))\n",
    "\n",
    "function('prajwal')"
   ]
  },
  {
   "cell_type": "code",
   "execution_count": 62,
   "id": "5e55c2f8-7481-4693-8ce0-2b69432a0349",
   "metadata": {},
   "outputs": [
    {
     "name": "stdout",
     "output_type": "stream",
     "text": [
      "1\n",
      "3\n",
      "6\n",
      "10\n",
      "the sum of all elements isc :  10\n"
     ]
    }
   ],
   "source": [
    "def get_sum(lst):\n",
    "    \"\"\"\n",
    "    this function will return sum of all element in list\n",
    "    \"\"\"\n",
    "    all = 0\n",
    "    for num in lst:\n",
    "        #print(all)\n",
    "        all+=num\n",
    "        print(all)\n",
    "    return all\n",
    "lst1 =get_sum([1,2,3,4])\n",
    "#print(lst1)\n",
    "print(\"the sum of all elements isc : \",lst1)"
   ]
  },
  {
   "cell_type": "code",
   "execution_count": 2,
   "id": "5d8a6416-dd66-4b8c-af2d-bb3fd9262204",
   "metadata": {},
   "outputs": [
    {
     "name": "stdout",
     "output_type": "stream",
     "text": [
      "this is local variable\n",
      "this is a global variable\n"
     ]
    }
   ],
   "source": [
    "global_var = \"this is a global variable\"\n",
    "def func():\n",
    "    local_variable = \"this is local variable\"\n",
    "     \n",
    "    print(local_variable)\n",
    "   \n",
    "\n",
    "func()\n",
    "print(global_var)"
   ]
  },
  {
   "cell_type": "code",
   "execution_count": 6,
   "id": "31046355-75e7-4685-9d40-3688bbccb0cd",
   "metadata": {},
   "outputs": [
    {
     "name": "stdout",
     "output_type": "stream",
     "text": [
      "12 is the hcf\n"
     ]
    }
   ],
   "source": [
    "a = 24\n",
    "b =36\n",
    "while b!=0:\n",
    "    remainder = a%b\n",
    "    a,b = b,remainder \n",
    "    \n",
    "print(a,'is the hcf')"
   ]
  },
  {
   "cell_type": "code",
   "execution_count": 7,
   "id": "718e9229-a1b0-4603-8f85-1d917c779ad0",
   "metadata": {},
   "outputs": [
    {
     "name": "stdout",
     "output_type": "stream",
     "text": [
      "100\n"
     ]
    }
   ],
   "source": [
    "lst=-100\n",
    "print(abs(lst))"
   ]
  },
  {
   "cell_type": "code",
   "execution_count": 8,
   "id": "ade4426f-8d3c-45e2-b11b-0943137b169c",
   "metadata": {},
   "outputs": [
    {
     "name": "stdout",
     "output_type": "stream",
     "text": [
      "<class 'list'>\n",
      "['__add__', '__class__', '__class_getitem__', '__contains__', '__delattr__', '__delitem__', '__dir__', '__doc__', '__eq__', '__format__', '__ge__', '__getattribute__', '__getitem__', '__getstate__', '__gt__', '__hash__', '__iadd__', '__imul__', '__init__', '__init_subclass__', '__iter__', '__le__', '__len__', '__lt__', '__mul__', '__ne__', '__new__', '__reduce__', '__reduce_ex__', '__repr__', '__reversed__', '__rmul__', '__setattr__', '__setitem__', '__sizeof__', '__str__', '__subclasshook__', 'append', 'clear', 'copy', 'count', 'extend', 'index', 'insert', 'pop', 'remove', 'reverse', 'sort']\n"
     ]
    }
   ],
   "source": [
    "lst =[]\n",
    "print(type(lst))\n",
    "print(dir(lst))"
   ]
  },
  {
   "cell_type": "markdown",
   "id": "e902ff74-d6c7-4eb3-bbfc-e53b1221d750",
   "metadata": {},
   "source": [
    "# enumerate"
   ]
  },
  {
   "cell_type": "code",
   "execution_count": 9,
   "id": "b031a7a3-b98c-4342-b71b-6619d066bacd",
   "metadata": {},
   "outputs": [
    {
     "name": "stdout",
     "output_type": "stream",
     "text": [
      "index 0 has value 10\n",
      "index 1 has value 20\n",
      "index 2 has value 30\n",
      "index 3 has value 40\n",
      "index 4 has value 50\n"
     ]
    }
   ],
   "source": [
    "lst =[10,20,30,40,50]\n",
    "\n",
    "for index,num in enumerate(lst,start=0):\n",
    "    print(\"index {0} has value {1}\".format (index,num))\n",
    "      "
   ]
  },
  {
   "cell_type": "markdown",
   "id": "98f9ddde-d429-4730-82eb-749f08913d03",
   "metadata": {},
   "source": [
    "# ALL"
   ]
  },
  {
   "cell_type": "code",
   "execution_count": 10,
   "id": "3562a47b-bd27-4ddd-b44f-273bc1eb8277",
   "metadata": {},
   "outputs": [
    {
     "name": "stdout",
     "output_type": "stream",
     "text": [
      "False\n"
     ]
    }
   ],
   "source": [
    "#return value of all function\n",
    "#true : if all element iterable are true,it print true\n",
    "#false : if any element i.e 0 is available in lisy it will b false 1: true, 0:false\n",
    "\n",
    "lst =[1,2,3,4,-4,0]\n",
    "print (all(lst))"
   ]
  },
  {
   "cell_type": "code",
   "execution_count": 14,
   "id": "237cc70f-efc3-4fed-a5eb-40ab97809eea",
   "metadata": {},
   "outputs": [
    {
     "name": "stdout",
     "output_type": "stream",
     "text": [
      "False\n"
     ]
    }
   ],
   "source": [
    "lst1 =[1,2,3,4,0]\n",
    "print(all(lst1))"
   ]
  },
  {
   "cell_type": "code",
   "execution_count": 15,
   "id": "055729d9-ccae-4481-95a7-ff8c1fc60742",
   "metadata": {},
   "outputs": [
    {
     "name": "stdout",
     "output_type": "stream",
     "text": [
      "True\n"
     ]
    }
   ],
   "source": [
    "lst2 =[]\n",
    "print(all(lst2))"
   ]
  },
  {
   "cell_type": "markdown",
   "id": "061d4b76-5c61-4fdd-8f76-d68fa122cd6c",
   "metadata": {},
   "source": [
    "# dir"
   ]
  },
  {
   "cell_type": "code",
   "execution_count": 16,
   "id": "04303bce-7c81-4905-9455-5774722e6dec",
   "metadata": {},
   "outputs": [
    {
     "name": "stdout",
     "output_type": "stream",
     "text": [
      "<class 'list'>\n",
      "['__add__', '__class__', '__class_getitem__', '__contains__', '__delattr__', '__delitem__', '__dir__', '__doc__', '__eq__', '__format__', '__ge__', '__getattribute__', '__getitem__', '__getstate__', '__gt__', '__hash__', '__iadd__', '__imul__', '__init__', '__init_subclass__', '__iter__', '__le__', '__len__', '__lt__', '__mul__', '__ne__', '__new__', '__reduce__', '__reduce_ex__', '__repr__', '__reversed__', '__rmul__', '__setattr__', '__setitem__', '__sizeof__', '__str__', '__subclasshook__', 'append', 'clear', 'copy', 'count', 'extend', 'index', 'insert', 'pop', 'remove', 'reverse', 'sort']\n",
      "===================+++++++++++++++++\n",
      "<class 'tuple'>\n",
      "['__add__', '__class__', '__class_getitem__', '__contains__', '__delattr__', '__dir__', '__doc__', '__eq__', '__format__', '__ge__', '__getattribute__', '__getitem__', '__getnewargs__', '__getstate__', '__gt__', '__hash__', '__init__', '__init_subclass__', '__iter__', '__le__', '__len__', '__lt__', '__mul__', '__ne__', '__new__', '__reduce__', '__reduce_ex__', '__repr__', '__rmul__', '__setattr__', '__sizeof__', '__str__', '__subclasshook__', 'count', 'index']\n"
     ]
    }
   ],
   "source": [
    "lst =[]\n",
    "print(type(lst))\n",
    "print(dir(lst))\n",
    "print(\"===================+++++++++++++++++\")\n",
    "lst2 =tuple(lst)\n",
    "print (type(lst2))\n",
    "print (dir(lst2))\n"
   ]
  },
  {
   "cell_type": "markdown",
   "id": "bf6cfa46-ebf2-4dc7-a6ad-adcec28983cd",
   "metadata": {},
   "source": [
    "# divmod"
   ]
  },
  {
   "cell_type": "code",
   "execution_count": 17,
   "id": "e6354964-38c0-42f6-86a3-361df769710e",
   "metadata": {},
   "outputs": [
    {
     "name": "stdout",
     "output_type": "stream",
     "text": [
      "(6, 1)\n"
     ]
    }
   ],
   "source": [
    "#the divmod() method takes two no \n",
    "print(divmod(13,2))"
   ]
  },
  {
   "cell_type": "markdown",
   "id": "4f48a5dc-3db7-42bd-a739-b0a037d37e88",
   "metadata": {},
   "source": [
    "# filter()"
   ]
  },
  {
   "cell_type": "raw",
   "id": "0446f7aa-60c6-4f7c-a897-73ae2be60523",
   "metadata": {},
   "source": [
    "the filter method constructs an iterator from elements of an iterable fro which a function returns true\n",
    "syntax:filter(function,iterable)"
   ]
  },
  {
   "cell_type": "code",
   "execution_count": 19,
   "id": "c297e46d-2015-47c5-949f-fdd4e354de1c",
   "metadata": {},
   "outputs": [],
   "source": [
    "def check_positive_no(num):\n",
    "    \"\"\"\n",
    "    this function returns the positive number if num is positive\n",
    "\n",
    "    \"\"\"\n",
    "    if num > 0:\n",
    "        return num"
   ]
  },
  {
   "cell_type": "code",
   "execution_count": null,
   "id": "adabb7a3-cd21-4712-9b6b-e052d816c19c",
   "metadata": {},
   "outputs": [],
   "source": [
    "lst_list = range(-10,10) # create a list with number from -10,10\n",
    "\n",
    "#print(list(lst1_list))\n",
    "#print(type(lst1_list))\n",
    "\n",
    "#lt2_positive = list(filter(check_positive_no, lst1_list)) \n",
    "#lst2_posituive = list(filter(lambda x:x>0,lst1_list))"
   ]
  },
  {
   "cell_type": "markdown",
   "id": "7d5f70e2-99f8-4aeb-9e06-a3739977a075",
   "metadata": {},
   "source": [
    "# reduce"
   ]
  },
  {
   "cell_type": "code",
   "execution_count": 20,
   "id": "f2c97952-ad31-41f7-8dd3-68cedc9b7f31",
   "metadata": {},
   "outputs": [
    {
     "name": "stdout",
     "output_type": "stream",
     "text": [
      "24\n"
     ]
    }
   ],
   "source": [
    "product = 1\n",
    "lst=[1,2,3,4]\n",
    "#case 1 \n",
    "for num in lst:\n",
    "    product *= num\n",
    "print(product)"
   ]
  },
  {
   "cell_type": "code",
   "execution_count": 21,
   "id": "b8c99cd5-bd8f-4c4e-b8e0-4282796e0f88",
   "metadata": {},
   "outputs": [
    {
     "name": "stdout",
     "output_type": "stream",
     "text": [
      "24\n"
     ]
    }
   ],
   "source": [
    "#with reduce \n",
    "#case 2\n",
    "\n",
    "from functools import reduce #in python 3 functools is library through which usiing resduce function\n",
    "\n",
    "def multiply(x,y):\n",
    "    return x*y;\n",
    "    #product = reduce(multiply,lst)\n",
    "\n",
    "#case3\n",
    "product = reduce(lambda x,y: x*y,lst) #it worl lyk accumulator\n",
    "\n",
    "print(product)"
   ]
  },
  {
   "cell_type": "code",
   "execution_count": 22,
   "id": "75d4add4-3444-4289-a6a1-39cc3caa1ac8",
   "metadata": {},
   "outputs": [
    {
     "name": "stdout",
     "output_type": "stream",
     "text": [
      "24\n"
     ]
    }
   ],
   "source": [
    "#reduce ,it work on double argument,map work on single argument, Filter work on single argument\n",
    "from functools import reduce\n",
    "product = reduce(lambda x,y:x*y,[1,2,3,4])\n",
    "print (product)"
   ]
  },
  {
   "cell_type": "markdown",
   "id": "ec80a93d-4c6f-4409-adfa-ddd71794055e",
   "metadata": {},
   "source": [
    "# Calculator"
   ]
  },
  {
   "cell_type": "code",
   "execution_count": null,
   "id": "6ccfab02-66a9-41b2-90a3-7676a9693088",
   "metadata": {},
   "outputs": [
    {
     "name": "stdout",
     "output_type": "stream",
     "text": [
      "Select the operation:\n",
      "1. Add\n",
      "2. Subtract\n",
      "3. Multiply\n",
      "4. Divide\n"
     ]
    }
   ],
   "source": [
    "from functools import reduce \n",
    "\n",
    "print(\"Select the operation:\")\n",
    "print(\"1. Add\")\n",
    "print(\"2. Subtract\")\n",
    "print(\"3. Multiply\")\n",
    "print(\"4. Divide\")\n",
    "\n",
    "while True:\n",
    "    choice = input(\"Enter the choice (1/2/3/4): \")\n",
    "\n",
    "    if choice in ('1', '2', '3', '4'):\n",
    "        num1 = float(input(\"Enter the first number: \"))\n",
    "        num2 = float(input(\"Enter the second number: \"))\n",
    "        \n",
    "        if choice == '1':\n",
    "            print(f'ANSWER: {reduce(lambda a, b: a + b, [num1, num2])}')\n",
    "        elif choice == '2':\n",
    "            print(f'ANSWER: {reduce(lambda a, b: a - b, [num1, num2])}')\n",
    "        elif choice == '3':\n",
    "            print(f'ANSWER: {reduce(lambda a, b: a * b, [num1, num2])}')\n",
    "        elif choice == '4':\n",
    "            if num2 != 0: \n",
    "                print(f'ANSWER: {reduce(lambda a, b: a / b, [num1, num2])}')\n",
    "            else:\n",
    "                print(\"Error! Division by zero.\")\n"
   ]
  },
  {
   "cell_type": "markdown",
   "id": "088a0f0f-820d-4b18-bb44-5b7d05cd9e4b",
   "metadata": {},
   "source": [
    "# default argument"
   ]
  },
  {
   "cell_type": "code",
   "execution_count": 18,
   "id": "91c22582-03e2-477f-b719-596ba7bb549a",
   "metadata": {},
   "outputs": [
    {
     "data": {
      "text/plain": [
       "8"
      ]
     },
     "execution_count": 18,
     "metadata": {},
     "output_type": "execute_result"
    }
   ],
   "source": [
    "#def say(x=1,y): \n",
    "#def say (x,y):\n",
    "def say(x,y=1,z=4):\n",
    "\n",
    "    prod = x+y+z\n",
    "    return prod\n",
    "\n",
    "say(2,z=5) #given value is taken not the defined value\n",
    "    \n",
    "\n",
    "\n"
   ]
  },
  {
   "cell_type": "code",
   "execution_count": 9,
   "id": "672c9f92-ca97-4e9b-87cc-3d25aef31a10",
   "metadata": {},
   "outputs": [
    {
     "ename": "SyntaxError",
     "evalue": "non-default argument follows default argument (1966664381.py, line 2)",
     "output_type": "error",
     "traceback": [
      "  \u001b[36mCell\u001b[39m\u001b[36m \u001b[39m\u001b[32mIn[9]\u001b[39m\u001b[32m, line 2\u001b[39m\n\u001b[31m    \u001b[39m\u001b[31mdef say(x=1,y):\u001b[39m\n                ^\n\u001b[31mSyntaxError\u001b[39m\u001b[31m:\u001b[39m non-default argument follows default argument\n"
     ]
    }
   ],
   "source": [
    "#case 2 \n",
    "def say(x=1,y): #error occurs becoz if first variable is defoned all variable should be defined\n",
    "    prod =x+y\n",
    "    return prod\n",
    "\n",
    "say(4,2)"
   ]
  },
  {
   "cell_type": "code",
   "execution_count": 10,
   "id": "7396959e-29b7-460e-8687-0de3499326a6",
   "metadata": {},
   "outputs": [
    {
     "data": {
      "text/plain": [
       "3"
      ]
     },
     "execution_count": 10,
     "metadata": {},
     "output_type": "execute_result"
    }
   ],
   "source": [
    "#case3\n",
    "def say(x,y):\n",
    "    prod = x+y\n",
    "    return prod\n",
    "\n",
    "say(1,2)"
   ]
  },
  {
   "cell_type": "code",
   "execution_count": 14,
   "id": "dd6d31c8-b805-43b1-a8b0-1a99f7601bd8",
   "metadata": {},
   "outputs": [
    {
     "data": {
      "text/plain": [
       "3"
      ]
     },
     "execution_count": 14,
     "metadata": {},
     "output_type": "execute_result"
    }
   ],
   "source": [
    "#case4\n",
    "def say (x,y=1):\n",
    "    prod = x+y\n",
    "    return prod\n",
    "say(1,2)"
   ]
  },
  {
   "cell_type": "code",
   "execution_count": 16,
   "id": "bd49c699-cc7f-4695-a4fb-25772bda185f",
   "metadata": {},
   "outputs": [
    {
     "data": {
      "text/plain": [
       "6"
      ]
     },
     "execution_count": 16,
     "metadata": {},
     "output_type": "execute_result"
    }
   ],
   "source": [
    "#case5\n",
    "def say(x=1,y=1):\n",
    "    prod = x+y\n",
    "    return prod\n",
    "\n",
    "say(5)"
   ]
  },
  {
   "cell_type": "code",
   "execution_count": 26,
   "id": "a85394d1-3c62-4fee-bfb0-570ba5dd1f50",
   "metadata": {},
   "outputs": [
    {
     "data": {
      "text/plain": [
       "7"
      ]
     },
     "execution_count": 26,
     "metadata": {},
     "output_type": "execute_result"
    }
   ],
   "source": [
    "#case6\n",
    "def say(x,y=1,z=9): #in this case error accours if we dont define\n",
    "    prod = x+y+z\n",
    "    return prod\n",
    "\n",
    "say(1,2,4)"
   ]
  },
  {
   "cell_type": "markdown",
   "id": "6cebb46e-87e1-4ac0-9c65-bb8daf4c7ac5",
   "metadata": {},
   "source": [
    "# FILE HANDLING"
   ]
  },
  {
   "cell_type": "code",
   "execution_count": 28,
   "id": "0197f745-d75c-44ab-b1f9-76d8707dec7b",
   "metadata": {},
   "outputs": [
    {
     "data": {
      "text/plain": [
       "'C:\\\\Users\\\\Administrator'"
      ]
     },
     "execution_count": 28,
     "metadata": {},
     "output_type": "execute_result"
    }
   ],
   "source": [
    "import os\n",
    "os.getcwd()"
   ]
  },
  {
   "cell_type": "code",
   "execution_count": 34,
   "id": "af4aa891-4eeb-4259-a30c-1de570c3e420",
   "metadata": {},
   "outputs": [],
   "source": [
    "#writing to a file\n",
    "import os \n",
    "os.getenv(\"C:\\\\Users\\\\Administrator\")\n",
    "lst = open(\"my3.txt\",\"w\") # create a file in home directory\n",
    "lst.write(\"this is 1st module2 \\n\")\n",
    "lst.write(\"this is 2nd module\")\n",
    "lst.close()\n"
   ]
  },
  {
   "cell_type": "code",
   "execution_count": 35,
   "id": "c9eb844d-2e81-4b81-b176-30facb41b242",
   "metadata": {},
   "outputs": [
    {
     "data": {
      "text/plain": [
       "'this is 1st module2 \\nthis is 2nd module'"
      ]
     },
     "execution_count": 35,
     "metadata": {},
     "output_type": "execute_result"
    }
   ],
   "source": [
    "lst = open(\"my3.txt\",\"r\")\n",
    "lst.read()"
   ]
  },
  {
   "cell_type": "code",
   "execution_count": 36,
   "id": "f471a6c4-cf01-41e3-8c5a-d289e888aa7b",
   "metadata": {},
   "outputs": [
    {
     "data": {
      "text/plain": [
       "'this'"
      ]
     },
     "execution_count": 36,
     "metadata": {},
     "output_type": "execute_result"
    }
   ],
   "source": [
    "#READING TO A FILE\n",
    "lst = open(\"my3.txt\",\"r\")\n",
    "lst.read(4)"
   ]
  },
  {
   "cell_type": "code",
   "execution_count": 38,
   "id": "fda26b66-2187-420c-93e2-7520b16eec58",
   "metadata": {},
   "outputs": [
    {
     "data": {
      "text/plain": [
       "'this is '"
      ]
     },
     "execution_count": 38,
     "metadata": {},
     "output_type": "execute_result"
    }
   ],
   "source": [
    "lst = open(\"my3.txt\",\"r\")\n",
    "lst.read(8)"
   ]
  },
  {
   "cell_type": "code",
   "execution_count": 39,
   "id": "58d4fe87-0297-477b-b25a-056a7fc7c61b",
   "metadata": {},
   "outputs": [
    {
     "data": {
      "text/plain": [
       "8"
      ]
     },
     "execution_count": 39,
     "metadata": {},
     "output_type": "execute_result"
    }
   ],
   "source": [
    "lst.tell()"
   ]
  },
  {
   "cell_type": "code",
   "execution_count": 40,
   "id": "3c1fb786-f1ce-436f-9cc5-26ef9be01a18",
   "metadata": {},
   "outputs": [
    {
     "data": {
      "text/plain": [
       "5"
      ]
     },
     "execution_count": 40,
     "metadata": {},
     "output_type": "execute_result"
    }
   ],
   "source": [
    "lst.seek(5)\n"
   ]
  },
  {
   "cell_type": "code",
   "execution_count": 41,
   "id": "50992941-b32b-47e4-818c-ff30d158eef5",
   "metadata": {},
   "outputs": [
    {
     "name": "stdout",
     "output_type": "stream",
     "text": [
      "is 1st module2 \n",
      "this is 2nd module\n"
     ]
    }
   ],
   "source": [
    "print(lst.read())"
   ]
  },
  {
   "cell_type": "code",
   "execution_count": 42,
   "id": "60b99670-63ef-403f-897e-90a95932e674",
   "metadata": {},
   "outputs": [
    {
     "name": "stdout",
     "output_type": "stream",
     "text": [
      "this is 1st module2 \n",
      "\n",
      "this is 2nd module\n"
     ]
    }
   ],
   "source": [
    "#read the line by line with loop\n",
    "lst.seek(0)\n",
    "for lin in lst:\n",
    "    print(lin)"
   ]
  },
  {
   "cell_type": "code",
   "execution_count": 43,
   "id": "ea996e52-74ea-4511-8f86-f2ba88e54552",
   "metadata": {},
   "outputs": [
    {
     "data": {
      "text/plain": [
       "'this is 1st module2 \\n'"
      ]
     },
     "execution_count": 43,
     "metadata": {},
     "output_type": "execute_result"
    }
   ],
   "source": [
    "lst = open(\"my3.txt\",\"r\")\n",
    "lst.readline()"
   ]
  },
  {
   "cell_type": "code",
   "execution_count": 44,
   "id": "164d401c-34ed-4643-94c0-600552f57b57",
   "metadata": {},
   "outputs": [
    {
     "data": {
      "text/plain": [
       "'this is 2nd module'"
      ]
     },
     "execution_count": 44,
     "metadata": {},
     "output_type": "execute_result"
    }
   ],
   "source": [
    "lst.readline()"
   ]
  },
  {
   "cell_type": "code",
   "execution_count": 51,
   "id": "c5228a6a-f8a6-47e9-ba50-5651402dc8b5",
   "metadata": {},
   "outputs": [
    {
     "ename": "ValueError",
     "evalue": "I/O operation on closed file.",
     "output_type": "error",
     "traceback": [
      "\u001b[31m---------------------------------------------------------------------------\u001b[39m",
      "\u001b[31mValueError\u001b[39m                                Traceback (most recent call last)",
      "\u001b[36mCell\u001b[39m\u001b[36m \u001b[39m\u001b[32mIn[51]\u001b[39m\u001b[32m, line 1\u001b[39m\n\u001b[32m----> \u001b[39m\u001b[32m1\u001b[39m \u001b[43mlst\u001b[49m\u001b[43m.\u001b[49m\u001b[43mreadline\u001b[49m\u001b[43m(\u001b[49m\u001b[43m)\u001b[49m\n\u001b[32m      2\u001b[39m lst.close()\n",
      "\u001b[31mValueError\u001b[39m: I/O operation on closed file."
     ]
    }
   ],
   "source": [
    "lst.readline()\n",
    "lst.close()\n"
   ]
  },
  {
   "cell_type": "markdown",
   "id": "f88d3365-80a0-4107-93b5-a0d5056522ad",
   "metadata": {},
   "source": [
    "# RENAMING AND DELETING FILES IN PYTHON "
   ]
  },
  {
   "cell_type": "code",
   "execution_count": 52,
   "id": "c3403519-2cd2-40d1-9256-1f9acca6fe03",
   "metadata": {},
   "outputs": [
    {
     "ename": "FileNotFoundError",
     "evalue": "[WinError 2] The system cannot find the file specified: 'my3.txt' -> 'prj.txt'",
     "output_type": "error",
     "traceback": [
      "\u001b[31m---------------------------------------------------------------------------\u001b[39m",
      "\u001b[31mFileNotFoundError\u001b[39m                         Traceback (most recent call last)",
      "\u001b[36mCell\u001b[39m\u001b[36m \u001b[39m\u001b[32mIn[52]\u001b[39m\u001b[32m, line 2\u001b[39m\n\u001b[32m      1\u001b[39m \u001b[38;5;28;01mimport\u001b[39;00m\u001b[38;5;250m \u001b[39m\u001b[34;01mos\u001b[39;00m\n\u001b[32m----> \u001b[39m\u001b[32m2\u001b[39m \u001b[43mos\u001b[49m\u001b[43m.\u001b[49m\u001b[43mrename\u001b[49m\u001b[43m(\u001b[49m\u001b[33;43m\"\u001b[39;49m\u001b[33;43mmy3.txt\u001b[39;49m\u001b[33;43m\"\u001b[39;49m\u001b[43m,\u001b[49m\u001b[33;43m\"\u001b[39;49m\u001b[33;43mprj.txt\u001b[39;49m\u001b[33;43m\"\u001b[39;49m\u001b[43m)\u001b[49m\n",
      "\u001b[31mFileNotFoundError\u001b[39m: [WinError 2] The system cannot find the file specified: 'my3.txt' -> 'prj.txt'"
     ]
    }
   ],
   "source": [
    "import os\n",
    "os.rename(\"my3.txt\",\"prj.txt\")"
   ]
  },
  {
   "cell_type": "code",
   "execution_count": 54,
   "id": "cb23433f-59a4-4617-b312-df0e104f5c3d",
   "metadata": {},
   "outputs": [
    {
     "ename": "AttributeError",
     "evalue": "'_io.TextIOWrapper' object has no attribute 'open'",
     "output_type": "error",
     "traceback": [
      "\u001b[31m---------------------------------------------------------------------------\u001b[39m",
      "\u001b[31mAttributeError\u001b[39m                            Traceback (most recent call last)",
      "\u001b[36mCell\u001b[39m\u001b[36m \u001b[39m\u001b[32mIn[54]\u001b[39m\u001b[32m, line 1\u001b[39m\n\u001b[32m----> \u001b[39m\u001b[32m1\u001b[39m \u001b[43mlst\u001b[49m\u001b[43m.\u001b[49m\u001b[43mopen\u001b[49m(\u001b[33m\"\u001b[39m\u001b[33mprj.txt\u001b[39m\u001b[33m\"\u001b[39m,\u001b[33m\"\u001b[39m\u001b[33mr\u001b[39m\u001b[33m\"\u001b[39m)\n\u001b[32m      2\u001b[39m lst.read()\n",
      "\u001b[31mAttributeError\u001b[39m: '_io.TextIOWrapper' object has no attribute 'open'"
     ]
    }
   ],
   "source": [
    "lst.open(\"prj.txt\",\"r\")\n",
    "lst.read()"
   ]
  },
  {
   "cell_type": "code",
   "execution_count": 59,
   "id": "297d55ee-65f6-4308-ab3e-1f50bf42e4ae",
   "metadata": {},
   "outputs": [
    {
     "data": {
      "text/plain": [
       "'C:\\\\Users\\\\Administrator'"
      ]
     },
     "execution_count": 59,
     "metadata": {},
     "output_type": "execute_result"
    }
   ],
   "source": [
    "import os\n",
    "os.getcwd()\n"
   ]
  },
  {
   "cell_type": "code",
   "execution_count": 62,
   "id": "6f545b16-d951-412c-a414-b3303ee09980",
   "metadata": {},
   "outputs": [],
   "source": [
    "os.getenv(\"C:\\\\Users\\\\Administrator\")\n",
    "lst=open(\"prajwal.txt\",\"w\")\n",
    "lst.write(\"hello , prajwal \\n\")\n",
    "lst.close()"
   ]
  },
  {
   "cell_type": "code",
   "execution_count": 63,
   "id": "3b33c627-daba-46a3-a58a-387b36a3e6a5",
   "metadata": {},
   "outputs": [],
   "source": [
    "os.rename(\"prajwal.txt\",\"rahul.txt\")"
   ]
  },
  {
   "cell_type": "code",
   "execution_count": 64,
   "id": "c996c912-451f-4fa3-a99a-181abfd61b44",
   "metadata": {},
   "outputs": [],
   "source": [
    "os.remove(\"prj.txt\")"
   ]
  },
  {
   "cell_type": "code",
   "execution_count": 65,
   "id": "7a0631be-5111-4c83-9c10-702f3a48373b",
   "metadata": {},
   "outputs": [],
   "source": [
    "os.mkdir(\"python\")"
   ]
  },
  {
   "cell_type": "code",
   "execution_count": 68,
   "id": "03629e2d-e983-43df-a624-6ce28790db72",
   "metadata": {},
   "outputs": [
    {
     "data": {
      "text/plain": [
       "[b'.ipynb_checkpoints',\n",
       " b'.ipython',\n",
       " b'.jupyter',\n",
       " b'.scala_history',\n",
       " b'3D Objects',\n",
       " b'airflow_venv',\n",
       " b'AppData',\n",
       " b'Application Data',\n",
       " b'Contacts',\n",
       " b'Cookies',\n",
       " b'Desktop',\n",
       " b'Documents',\n",
       " b'Downloads',\n",
       " b'Favorites',\n",
       " b'grafana-server.exe',\n",
       " b'Links',\n",
       " b'Local Settings',\n",
       " b'Music',\n",
       " b'My Documents',\n",
       " b'NetHood',\n",
       " b'NTUSER.DAT',\n",
       " b'ntuser.dat.LOG1',\n",
       " b'ntuser.dat.LOG2',\n",
       " b'NTUSER.DAT{53b39e88-18c4-11ea-a811-000d3aa4692b}.TM.blf',\n",
       " b'NTUSER.DAT{53b39e88-18c4-11ea-a811-000d3aa4692b}.TMContainer00000000000000000001.regtrans-ms',\n",
       " b'NTUSER.DAT{53b39e88-18c4-11ea-a811-000d3aa4692b}.TMContainer00000000000000000002.regtrans-ms',\n",
       " b'ntuser.ini',\n",
       " b'OneDrive',\n",
       " b'Pictures',\n",
       " b'PrintHood',\n",
       " b'python',\n",
       " b'Python_Programs.ipynb',\n",
       " b'rahul.txt',\n",
       " b'Recent',\n",
       " b'Saved Games',\n",
       " b'Searches',\n",
       " b'SendTo',\n",
       " b'Start Menu',\n",
       " b'Templates',\n",
       " b'Untitled1.ipynb',\n",
       " b'Videos']"
      ]
     },
     "execution_count": 68,
     "metadata": {},
     "output_type": "execute_result"
    }
   ],
   "source": [
    "os.listdir(os.getcwdb())"
   ]
  },
  {
   "cell_type": "code",
   "execution_count": 69,
   "id": "2501a8cf-9c30-4f23-94cf-e0b46f3c3783",
   "metadata": {},
   "outputs": [],
   "source": [
    "prj = open(\"file.txt\",\"w\")\n",
    "prj.write(\"hello this is file\\n\")\n",
    "prj.close()"
   ]
  },
  {
   "cell_type": "code",
   "execution_count": 70,
   "id": "ae6f0597-24b0-4721-871f-27696e9145df",
   "metadata": {},
   "outputs": [
    {
     "data": {
      "text/plain": [
       "'C:\\\\Users\\\\Administrator'"
      ]
     },
     "execution_count": 70,
     "metadata": {},
     "output_type": "execute_result"
    }
   ],
   "source": [
    "os.getcwd()"
   ]
  },
  {
   "cell_type": "code",
   "execution_count": 71,
   "id": "f1c097db-5ed7-4412-b9d1-457067db5f5a",
   "metadata": {},
   "outputs": [],
   "source": [
    "os.chdir(\"C:\\\\Users\")"
   ]
  },
  {
   "cell_type": "code",
   "execution_count": 72,
   "id": "445a00a9-691c-43d3-ba1f-1ee8696dfe1c",
   "metadata": {},
   "outputs": [
    {
     "data": {
      "text/plain": [
       "'C:\\\\Users'"
      ]
     },
     "execution_count": 72,
     "metadata": {},
     "output_type": "execute_result"
    }
   ],
   "source": [
    "os.getcwd()"
   ]
  },
  {
   "cell_type": "code",
   "execution_count": 73,
   "id": "139b145c-0d58-4b82-8bac-ba8c78ae5c75",
   "metadata": {},
   "outputs": [],
   "source": [
    "os.mkdir(\"prjdir\")"
   ]
  },
  {
   "cell_type": "code",
   "execution_count": 74,
   "id": "43436294-1934-469e-b044-2022a29eef35",
   "metadata": {},
   "outputs": [
    {
     "data": {
      "text/plain": [
       "'C:\\\\Users'"
      ]
     },
     "execution_count": 74,
     "metadata": {},
     "output_type": "execute_result"
    }
   ],
   "source": [
    "os.getcwd()"
   ]
  },
  {
   "cell_type": "code",
   "execution_count": 75,
   "id": "97e0400b-1abf-4aa9-a80c-63d59b4fa454",
   "metadata": {},
   "outputs": [
    {
     "data": {
      "text/plain": [
       "[b'Administrator',\n",
       " b'All Users',\n",
       " b'Default',\n",
       " b'Default User',\n",
       " b'desktop.ini',\n",
       " b'prjdir',\n",
       " b'Public',\n",
       " b'User']"
      ]
     },
     "execution_count": 75,
     "metadata": {},
     "output_type": "execute_result"
    }
   ],
   "source": [
    "os.listdir(os.getcwdb())"
   ]
  },
  {
   "cell_type": "code",
   "execution_count": 76,
   "id": "aeae9aa3-4b6b-48f4-abf5-2f2fad4af76a",
   "metadata": {},
   "outputs": [],
   "source": [
    "os.chdir(\"C:\\\\Users\\\\prjdir\")"
   ]
  },
  {
   "cell_type": "code",
   "execution_count": 89,
   "id": "3aab9910-f6dc-44f1-bae7-42df9224794d",
   "metadata": {},
   "outputs": [],
   "source": [
    "file2 = open(\"heloo.txt\",\"w\")\n",
    "file2.write(\"hello demo\\n\")\n",
    "file2.close()"
   ]
  },
  {
   "cell_type": "code",
   "execution_count": 91,
   "id": "e8791adb-60ea-41a3-b654-e1bc39298dae",
   "metadata": {},
   "outputs": [],
   "source": [
    "file2 = open(\"heloo.txt\",\"r\")\n",
    "file2.read()\n",
    "file2.close()"
   ]
  },
  {
   "cell_type": "code",
   "execution_count": 92,
   "id": "39592616-62dc-4d12-9c37-3b74e682959d",
   "metadata": {},
   "outputs": [],
   "source": [
    "os.chdir(\"C:\\\\Users\")"
   ]
  },
  {
   "cell_type": "code",
   "execution_count": 93,
   "id": "76d94b36-e82d-49a3-92f7-9b80d709712b",
   "metadata": {},
   "outputs": [
    {
     "data": {
      "text/plain": [
       "[b'Administrator',\n",
       " b'All Users',\n",
       " b'Default',\n",
       " b'Default User',\n",
       " b'desktop.ini',\n",
       " b'heloo.txt',\n",
       " b'prjdir',\n",
       " b'Public',\n",
       " b'User']"
      ]
     },
     "execution_count": 93,
     "metadata": {},
     "output_type": "execute_result"
    }
   ],
   "source": [
    "os.listdir(os.getcwdb())"
   ]
  },
  {
   "cell_type": "code",
   "execution_count": 94,
   "id": "b762f7a1-b0cc-4b57-840d-43a79af7fd33",
   "metadata": {},
   "outputs": [
    {
     "ename": "PermissionError",
     "evalue": "[WinError 5] Access is denied: 'prjdir'",
     "output_type": "error",
     "traceback": [
      "\u001b[31m---------------------------------------------------------------------------\u001b[39m",
      "\u001b[31mPermissionError\u001b[39m                           Traceback (most recent call last)",
      "\u001b[36mCell\u001b[39m\u001b[36m \u001b[39m\u001b[32mIn[94]\u001b[39m\u001b[32m, line 1\u001b[39m\n\u001b[32m----> \u001b[39m\u001b[32m1\u001b[39m \u001b[43mos\u001b[49m\u001b[43m.\u001b[49m\u001b[43mremove\u001b[49m\u001b[43m(\u001b[49m\u001b[33;43m\"\u001b[39;49m\u001b[33;43mprjdir\u001b[39;49m\u001b[33;43m\"\u001b[39;49m\u001b[43m)\u001b[49m\n",
      "\u001b[31mPermissionError\u001b[39m: [WinError 5] Access is denied: 'prjdir'"
     ]
    }
   ],
   "source": [
    "os.remove(\"prjdir\")"
   ]
  },
  {
   "cell_type": "code",
   "execution_count": 95,
   "id": "bf49200c-6ebe-4885-ac7d-8d8a7950fe40",
   "metadata": {},
   "outputs": [],
   "source": [
    "import shutil\n",
    "shutil.rmtree('prjdir')"
   ]
  },
  {
   "cell_type": "code",
   "execution_count": 96,
   "id": "fb118bdb-f87e-47d1-8fb7-e644b6b1a231",
   "metadata": {},
   "outputs": [
    {
     "data": {
      "text/plain": [
       "[b'Administrator',\n",
       " b'All Users',\n",
       " b'Default',\n",
       " b'Default User',\n",
       " b'desktop.ini',\n",
       " b'heloo.txt',\n",
       " b'Public',\n",
       " b'User']"
      ]
     },
     "execution_count": 96,
     "metadata": {},
     "output_type": "execute_result"
    }
   ],
   "source": [
    "os.listdir(os.getcwdb())"
   ]
  },
  {
   "cell_type": "code",
   "execution_count": 1,
   "id": "d5d375d0-60b7-48c2-b807-43a51cc777d3",
   "metadata": {},
   "outputs": [
    {
     "data": {
      "text/plain": [
       "['ArithmeticError',\n",
       " 'AssertionError',\n",
       " 'AttributeError',\n",
       " 'BaseException',\n",
       " 'BaseExceptionGroup',\n",
       " 'BlockingIOError',\n",
       " 'BrokenPipeError',\n",
       " 'BufferError',\n",
       " 'BytesWarning',\n",
       " 'ChildProcessError',\n",
       " 'ConnectionAbortedError',\n",
       " 'ConnectionError',\n",
       " 'ConnectionRefusedError',\n",
       " 'ConnectionResetError',\n",
       " 'DeprecationWarning',\n",
       " 'EOFError',\n",
       " 'Ellipsis',\n",
       " 'EncodingWarning',\n",
       " 'EnvironmentError',\n",
       " 'Exception',\n",
       " 'ExceptionGroup',\n",
       " 'False',\n",
       " 'FileExistsError',\n",
       " 'FileNotFoundError',\n",
       " 'FloatingPointError',\n",
       " 'FutureWarning',\n",
       " 'GeneratorExit',\n",
       " 'IOError',\n",
       " 'ImportError',\n",
       " 'ImportWarning',\n",
       " 'IndentationError',\n",
       " 'IndexError',\n",
       " 'InterruptedError',\n",
       " 'IsADirectoryError',\n",
       " 'KeyError',\n",
       " 'KeyboardInterrupt',\n",
       " 'LookupError',\n",
       " 'MemoryError',\n",
       " 'ModuleNotFoundError',\n",
       " 'NameError',\n",
       " 'None',\n",
       " 'NotADirectoryError',\n",
       " 'NotImplemented',\n",
       " 'NotImplementedError',\n",
       " 'OSError',\n",
       " 'OverflowError',\n",
       " 'PendingDeprecationWarning',\n",
       " 'PermissionError',\n",
       " 'ProcessLookupError',\n",
       " 'RecursionError',\n",
       " 'ReferenceError',\n",
       " 'ResourceWarning',\n",
       " 'RuntimeError',\n",
       " 'RuntimeWarning',\n",
       " 'StopAsyncIteration',\n",
       " 'StopIteration',\n",
       " 'SyntaxError',\n",
       " 'SyntaxWarning',\n",
       " 'SystemError',\n",
       " 'SystemExit',\n",
       " 'TabError',\n",
       " 'TimeoutError',\n",
       " 'True',\n",
       " 'TypeError',\n",
       " 'UnboundLocalError',\n",
       " 'UnicodeDecodeError',\n",
       " 'UnicodeEncodeError',\n",
       " 'UnicodeError',\n",
       " 'UnicodeTranslateError',\n",
       " 'UnicodeWarning',\n",
       " 'UserWarning',\n",
       " 'ValueError',\n",
       " 'Warning',\n",
       " 'WindowsError',\n",
       " 'ZeroDivisionError',\n",
       " '__IPYTHON__',\n",
       " '__build_class__',\n",
       " '__debug__',\n",
       " '__doc__',\n",
       " '__import__',\n",
       " '__loader__',\n",
       " '__name__',\n",
       " '__package__',\n",
       " '__spec__',\n",
       " 'abs',\n",
       " 'aiter',\n",
       " 'all',\n",
       " 'anext',\n",
       " 'any',\n",
       " 'ascii',\n",
       " 'bin',\n",
       " 'bool',\n",
       " 'breakpoint',\n",
       " 'bytearray',\n",
       " 'bytes',\n",
       " 'callable',\n",
       " 'chr',\n",
       " 'classmethod',\n",
       " 'compile',\n",
       " 'complex',\n",
       " 'copyright',\n",
       " 'credits',\n",
       " 'delattr',\n",
       " 'dict',\n",
       " 'dir',\n",
       " 'display',\n",
       " 'divmod',\n",
       " 'enumerate',\n",
       " 'eval',\n",
       " 'exec',\n",
       " 'execfile',\n",
       " 'filter',\n",
       " 'float',\n",
       " 'format',\n",
       " 'frozenset',\n",
       " 'get_ipython',\n",
       " 'getattr',\n",
       " 'globals',\n",
       " 'hasattr',\n",
       " 'hash',\n",
       " 'help',\n",
       " 'hex',\n",
       " 'id',\n",
       " 'input',\n",
       " 'int',\n",
       " 'isinstance',\n",
       " 'issubclass',\n",
       " 'iter',\n",
       " 'len',\n",
       " 'license',\n",
       " 'list',\n",
       " 'locals',\n",
       " 'map',\n",
       " 'max',\n",
       " 'memoryview',\n",
       " 'min',\n",
       " 'next',\n",
       " 'object',\n",
       " 'oct',\n",
       " 'open',\n",
       " 'ord',\n",
       " 'pow',\n",
       " 'print',\n",
       " 'property',\n",
       " 'range',\n",
       " 'repr',\n",
       " 'reversed',\n",
       " 'round',\n",
       " 'runfile',\n",
       " 'set',\n",
       " 'setattr',\n",
       " 'slice',\n",
       " 'sorted',\n",
       " 'staticmethod',\n",
       " 'str',\n",
       " 'sum',\n",
       " 'super',\n",
       " 'tuple',\n",
       " 'type',\n",
       " 'vars',\n",
       " 'zip']"
      ]
     },
     "execution_count": 1,
     "metadata": {},
     "output_type": "execute_result"
    }
   ],
   "source": [
    "dir(__builtins__)"
   ]
  },
  {
   "cell_type": "markdown",
   "id": "23f5ba0a-e5a4-46f2-b73b-76ef8acd58a6",
   "metadata": {},
   "source": [
    "# Exceptional handling"
   ]
  },
  {
   "cell_type": "code",
   "execution_count": 3,
   "id": "63b7e955-4dc1-429d-96dc-b003faa5b1b1",
   "metadata": {},
   "outputs": [
    {
     "name": "stdout",
     "output_type": "stream",
     "text": [
      "value is: b\n"
     ]
    },
    {
     "ename": "ValueError",
     "evalue": "invalid literal for int() with base 10: 'b'",
     "output_type": "error",
     "traceback": [
      "\u001b[31m---------------------------------------------------------------------------\u001b[39m",
      "\u001b[31mValueError\u001b[39m                                Traceback (most recent call last)",
      "\u001b[36mCell\u001b[39m\u001b[36m \u001b[39m\u001b[32mIn[3]\u001b[39m\u001b[32m, line 4\u001b[39m\n\u001b[32m      2\u001b[39m \u001b[38;5;28;01mfor\u001b[39;00m n \u001b[38;5;129;01min\u001b[39;00m lst:\n\u001b[32m      3\u001b[39m     \u001b[38;5;28mprint\u001b[39m(\u001b[33m\"\u001b[39m\u001b[33mvalue is:\u001b[39m\u001b[33m\"\u001b[39m,n)\n\u001b[32m----> \u001b[39m\u001b[32m4\u001b[39m     k=\u001b[32m1\u001b[39m/\u001b[38;5;28;43mint\u001b[39;49m\u001b[43m(\u001b[49m\u001b[43mn\u001b[49m\u001b[43m)\u001b[49m           \u001b[38;5;66;03m#run time error\u001b[39;00m\n",
      "\u001b[31mValueError\u001b[39m: invalid literal for int() with base 10: 'b'"
     ]
    }
   ],
   "source": [
    "lst =['b',0,2]\n",
    "for n in lst:\n",
    "    print(\"value is:\",n)\n",
    "    k=1/int(n)           #run time error"
   ]
  },
  {
   "cell_type": "code",
   "execution_count": 8,
   "id": "4a3eb26f-884e-40d0-9a15-e7bb06046875",
   "metadata": {},
   "outputs": [
    {
     "name": "stdout",
     "output_type": "stream",
     "text": [
      "value is : a\n",
      "ooPS WRONG.... (<class 'ValueError'>, ValueError(\"invalid literal for int() with base 10: 'a'\"), <traceback object at 0x000001FAC9575200>) occured\n",
      "next entry.\n",
      "++++++++++++++++++++++++++++++++++++++++\n",
      "value is : 0\n",
      "ooPS WRONG.... (<class 'ZeroDivisionError'>, ZeroDivisionError('division by zero'), <traceback object at 0x000001FAC9575B80>) occured\n",
      "next entry.\n",
      "++++++++++++++++++++++++++++++++++++++++\n",
      "value is : 2\n",
      "The reciprocal of 2 is 0.5\n"
     ]
    }
   ],
   "source": [
    "import sys\n",
    "lst =('a',0,2)\n",
    "for n in lst:\n",
    "    try:\n",
    "        print(\"value is :\",n)\n",
    "        k=1/int(n)\n",
    "    except:\n",
    "        print(\"ooPS WRONG....\",sys.exc_info(),\"occured\")\n",
    "        print(\"next entry.\")\n",
    "        print(\"++++++++++++++++++++++++++++++++++++++++\")\n",
    "print(\"The reciprocal of\",n,\"is\",k)"
   ]
  },
  {
   "cell_type": "code",
   "execution_count": 9,
   "id": "d1997ec8-87b9-4fe3-9d33-4a0184e6195e",
   "metadata": {},
   "outputs": [
    {
     "name": "stdout",
     "output_type": "stream",
     "text": [
      "Value is : b\n",
      "This is ValueError.\n",
      "Value is : 0\n",
      "This is ZeroDivisionError\n",
      "Value is : 4\n",
      "The reciprocal of 4 is 0.25\n"
     ]
    }
   ],
   "source": [
    "lst =['b',0,4]\n",
    "for n in lst:\n",
    "    try:\n",
    "        print(\"Value is :\",n)\n",
    "        k = 1/int(n)\n",
    "\n",
    "    except(ValueError):\n",
    "        print(\"This is ValueError.\")\n",
    "    except(ZeroDivisionError):\n",
    "        print(\"This is ZeroDivisionError\")\n",
    "    except:\n",
    "        print(\"Other Error....\")\n",
    "\n",
    "print(\"The reciprocal of\",n,\"is\",k)\n",
    "        "
   ]
  },
  {
   "cell_type": "code",
   "execution_count": 11,
   "id": "1a929d39-bbda-40f7-9fce-b8d1de31b530",
   "metadata": {},
   "outputs": [
    {
     "data": {
      "text/plain": [
       "'C:\\\\Users\\\\Administrator'"
      ]
     },
     "execution_count": 11,
     "metadata": {},
     "output_type": "execute_result"
    }
   ],
   "source": [
    "#TRY AND FINALLY\n",
    "import os\n",
    "os.getcwd()"
   ]
  },
  {
   "cell_type": "code",
   "execution_count": 13,
   "id": "bf7fa96d-a29a-4cbc-846c-80332f812606",
   "metadata": {},
   "outputs": [
    {
     "name": "stdout",
     "output_type": "stream",
     "text": [
      "final closed\n"
     ]
    },
    {
     "ename": "FileNotFoundError",
     "evalue": "[Errno 2] No such file or directory: 'rahu.txt'",
     "output_type": "error",
     "traceback": [
      "\u001b[31m---------------------------------------------------------------------------\u001b[39m",
      "\u001b[31mFileNotFoundError\u001b[39m                         Traceback (most recent call last)",
      "\u001b[36mCell\u001b[39m\u001b[36m \u001b[39m\u001b[32mIn[13]\u001b[39m\u001b[32m, line 3\u001b[39m\n\u001b[32m      1\u001b[39m os.chdir(\u001b[33m'\u001b[39m\u001b[33mC:\u001b[39m\u001b[38;5;130;01m\\\\\u001b[39;00m\u001b[33mUsers\u001b[39m\u001b[38;5;130;01m\\\\\u001b[39;00m\u001b[33mAdministrator\u001b[39m\u001b[33m'\u001b[39m)\n\u001b[32m      2\u001b[39m \u001b[38;5;28;01mtry\u001b[39;00m:\n\u001b[32m----> \u001b[39m\u001b[32m3\u001b[39m     f = \u001b[38;5;28;43mopen\u001b[39;49m\u001b[43m(\u001b[49m\u001b[33;43m'\u001b[39;49m\u001b[33;43mrahu.txt\u001b[39;49m\u001b[33;43m'\u001b[39;49m\u001b[43m)\u001b[49m\n\u001b[32m      5\u001b[39m \u001b[38;5;28;01mfinally\u001b[39;00m:\n\u001b[32m      6\u001b[39m     \u001b[38;5;28mprint\u001b[39m(\u001b[33m\"\u001b[39m\u001b[33mfinal closed\u001b[39m\u001b[33m\"\u001b[39m)\n",
      "\u001b[36mFile \u001b[39m\u001b[32mC:\\Program Files\\Python311\\Lib\\site-packages\\IPython\\core\\interactiveshell.py:326\u001b[39m, in \u001b[36m_modified_open\u001b[39m\u001b[34m(file, *args, **kwargs)\u001b[39m\n\u001b[32m    319\u001b[39m \u001b[38;5;28;01mif\u001b[39;00m file \u001b[38;5;129;01min\u001b[39;00m {\u001b[32m0\u001b[39m, \u001b[32m1\u001b[39m, \u001b[32m2\u001b[39m}:\n\u001b[32m    320\u001b[39m     \u001b[38;5;28;01mraise\u001b[39;00m \u001b[38;5;167;01mValueError\u001b[39;00m(\n\u001b[32m    321\u001b[39m         \u001b[33mf\u001b[39m\u001b[33m\"\u001b[39m\u001b[33mIPython won\u001b[39m\u001b[33m'\u001b[39m\u001b[33mt let you open fd=\u001b[39m\u001b[38;5;132;01m{\u001b[39;00mfile\u001b[38;5;132;01m}\u001b[39;00m\u001b[33m by default \u001b[39m\u001b[33m\"\u001b[39m\n\u001b[32m    322\u001b[39m         \u001b[33m\"\u001b[39m\u001b[33mas it is likely to crash IPython. If you know what you are doing, \u001b[39m\u001b[33m\"\u001b[39m\n\u001b[32m    323\u001b[39m         \u001b[33m\"\u001b[39m\u001b[33myou can use builtins\u001b[39m\u001b[33m'\u001b[39m\u001b[33m open.\u001b[39m\u001b[33m\"\u001b[39m\n\u001b[32m    324\u001b[39m     )\n\u001b[32m--> \u001b[39m\u001b[32m326\u001b[39m \u001b[38;5;28;01mreturn\u001b[39;00m \u001b[43mio_open\u001b[49m\u001b[43m(\u001b[49m\u001b[43mfile\u001b[49m\u001b[43m,\u001b[49m\u001b[43m \u001b[49m\u001b[43m*\u001b[49m\u001b[43margs\u001b[49m\u001b[43m,\u001b[49m\u001b[43m \u001b[49m\u001b[43m*\u001b[49m\u001b[43m*\u001b[49m\u001b[43mkwargs\u001b[49m\u001b[43m)\u001b[49m\n",
      "\u001b[31mFileNotFoundError\u001b[39m: [Errno 2] No such file or directory: 'rahu.txt'"
     ]
    }
   ],
   "source": [
    "os.chdir('C:\\\\Users\\\\Administrator')\n",
    "try:\n",
    "    f = open('rahu.txt')\n",
    "\n",
    "finally:\n",
    "    print(\"final closed\")\n",
    "    f.close()"
   ]
  },
  {
   "cell_type": "code",
   "execution_count": null,
   "id": "630082f7-5b41-4b37-bf2f-57b0acbfc48b",
   "metadata": {},
   "outputs": [],
   "source": []
  },
  {
   "cell_type": "code",
   "execution_count": 20,
   "id": "8aecdb69-7308-4f81-93ab-187429d68e94",
   "metadata": {},
   "outputs": [],
   "source": [
    "import sys\n",
    "os.chdir('C:\\\\Users\\\\Administrator')\n",
    "try:\n",
    "    f = open('rahul.txt')\n",
    "\n",
    "except:\n",
    "    print(\"Something went wrong when writing to the file\",sys.exc_info())"
   ]
  },
  {
   "cell_type": "code",
   "execution_count": 18,
   "id": "3b6e8724-7d01-473b-b737-a72d14904531",
   "metadata": {},
   "outputs": [],
   "source": [
    "f = open(\"rahul.txt\",\"w\")\n",
    "f.write(\"hellooo....\")\n",
    "f.close()"
   ]
  },
  {
   "cell_type": "code",
   "execution_count": 24,
   "id": "3635c899-a34e-4c76-985b-aee6407e53ae",
   "metadata": {},
   "outputs": [],
   "source": [
    "import sys\n",
    "os.chdir('C:\\\\Users\\\\Administrator')\n",
    "try:\n",
    "    f = open('rahul.txt','r')\n",
    "    f.read()\n",
    "except:\n",
    "    print(\"Something went wrong when writing to the file\",sys.exc_info())\n",
    "    #f.close()"
   ]
  },
  {
   "cell_type": "code",
   "execution_count": 33,
   "id": "8ee0d2d5-c258-4769-8cd9-ec1208b273fb",
   "metadata": {},
   "outputs": [
    {
     "name": "stderr",
     "output_type": "stream",
     "text": [
      "ERROR:root:(<class 'FileNotFoundError'>, FileNotFoundError(2, 'No such file or directory'), <traceback object at 0x000001FAC9547280>)\n"
     ]
    }
   ],
   "source": [
    "import sys\n",
    "import logging\n",
    "logging.basicConfig(level = logging.INFO)\n",
    "os.chdir('C:\\\\Users\\\\Administrator')\n",
    "try:\n",
    "    f = open('ral.txt')\n",
    "\n",
    "except:\n",
    "   logging.error(sys.exc_info())"
   ]
  },
  {
   "cell_type": "markdown",
   "id": "9aebd05a-0773-48c7-8bbf-52851064ef6c",
   "metadata": {},
   "source": [
    "# PANDAS"
   ]
  },
  {
   "cell_type": "code",
   "execution_count": null,
   "id": "cf08afb5-502d-4f6d-be43-54263d96f8d4",
   "metadata": {},
   "outputs": [],
   "source": [
    "pip "
   ]
  }
 ],
 "metadata": {
  "kernelspec": {
   "display_name": "Python 3 (ipykernel)",
   "language": "python",
   "name": "python3"
  },
  "language_info": {
   "codemirror_mode": {
    "name": "ipython",
    "version": 3
   },
   "file_extension": ".py",
   "mimetype": "text/x-python",
   "name": "python",
   "nbconvert_exporter": "python",
   "pygments_lexer": "ipython3",
   "version": "3.11.0"
  }
 },
 "nbformat": 4,
 "nbformat_minor": 5
}
